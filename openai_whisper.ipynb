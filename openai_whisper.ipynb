{
  "nbformat": 4,
  "nbformat_minor": 0,
  "metadata": {
    "colab": {
      "provenance": [],
      "authorship_tag": "ABX9TyO9DDZqyXwuh5wzZkwJWwkd",
      "include_colab_link": true
    },
    "kernelspec": {
      "name": "python3",
      "display_name": "Python 3"
    },
    "language_info": {
      "name": "python"
    },
    "accelerator": "GPU",
    "gpuClass": "standard"
  },
  "cells": [
    {
      "cell_type": "markdown",
      "metadata": {
        "id": "view-in-github",
        "colab_type": "text"
      },
      "source": [
        "<a href=\"https://colab.research.google.com/github/takeshitayy/openai-whisper/blob/main/openai_whisper.ipynb\" target=\"_parent\"><img src=\"https://colab.research.google.com/assets/colab-badge.svg\" alt=\"Open In Colab\"/></a>"
      ]
    },
    {
      "cell_type": "markdown",
      "source": [
        "# 【OpenAI】Whisper で音声データを文章化し、発話の開始時間と終了時間を含めたCSVデータにする\n",
        "- OpenAIが公開している [Wisper](https://github.com/openai/whisper/) を利用して、音声データを文章化する\n",
        "- 文章化するとある程度で区切られて出力され、その区切られた文章の開始時間と終了時間を含めCSVデータにする"
      ],
      "metadata": {
        "id": "lWOiuYXZtkqT"
      }
    },
    {
      "cell_type": "markdown",
      "source": [
        "## 実行方法\n",
        "\n",
        "1. ランタイムの設定\n",
        "    1. メニューバーの [ランタイム] - [ランタイムのタイプの変更] をクリック\n",
        "    ![ランタイムのタイプの変更](https://docs.google.com/drawings/d/e/2PACX-1vTo2XkKxxwux9ATDbSPQI0PbJHMYzTJPKwUcUtIj8UwlT_h4sFm9vJtdjusib3p0nNX-j7lYX0EyWu1/pub?w=601&h=545)\n",
        "\n",
        "    1. ハードウェア アクセラレータ で `GPU` を設定する\n",
        "    ![ランタイムのタイプの変更](https://docs.google.com/drawings/d/e/2PACX-1vQL7egTWuLu9NOLb5-Z1uZCwIa9dMKraLhn6T6B3KO0_GdYhawWdOyKQaE0SlBDZ0gDr1xAUp0aCPAQ/pub?w=644&h=340)\n",
        "\n",
        "1. 音声データの追加\n",
        "    1. サイドバーの 📁アイコン をクリックしてファイルの一覧を表示し、テキストを抽出したい 音声データ を drag & drop で追加\n",
        "    ![音声データの追加](https://docs.google.com/drawings/d/e/2PACX-1vQU_evi3lR57aAgoRfJhAr5FYpGBf10uA85v8Dx25rE-HMAauXwX1ON0o9KcBVyXvUjqR4H8_rMadCM/pub?w=525&h=307)\n",
        "\n",
        "1. 変数のセット\n",
        "    1. 追加した 音声データ を右クリックして `パスをコピー` でファイルの絶対パスをコピーする\n",
        "        ![音声データのフルパスのコピー](https://docs.google.com/drawings/d/e/2PACX-1vR6sCrnZT8S9QNnm7IRGZRhGl1cP3AOd8ucT0iIxx-azlz_S3IoLkv1sAALxKGkc1z7JWXLaz9U2bcY/pub?w=447&h=384)\n",
        "    1. 変数 `audioPath` に音声データの絶対パスをセット\n",
        "    1. 変数 `outputCsvName` に出力するcsvのファイル名をセット\n",
        "    1. 変数 `model`で 使用する whisper のモデルを選択する\n",
        "\n",
        "![変数のセット](https://docs.google.com/drawings/d/e/2PACX-1vSw82EkS6M7f6H1Kp3MRyeEbf2PqNHzbWnVitCgKwAnD10z2dLsG3NL-ENrHnHzHG1PpWKUZSwxJ5iE/pub?w=946&h=393)\n",
        "\n",
        "1. `Ctrl + F9` ですべてのセルを実行すると `/content/` 以下に指定した名前のcsvファイルが出力される"
      ],
      "metadata": {
        "id": "LBvJx_yqSS2O"
      }
    },
    {
      "cell_type": "markdown",
      "source": [
        "### 変数のセットとパッケージの導入"
      ],
      "metadata": {
        "id": "NihsuhxfaB5E"
      }
    },
    {
      "cell_type": "code",
      "execution_count": 6,
      "metadata": {
        "id": "YdzEiW6Hx1MI"
      },
      "outputs": [],
      "source": [
        "#@title 変数のセット\n",
        "#@markdown 音声データの絶対パス:\n",
        "audioPath = \"/content/audio.mp3\" #@param {type:\"string\"}\n",
        "\n",
        "#@markdown 出力するCSVのファイル名（/content/ 以下に出力される）:\n",
        "outputCsvName = \"output.csv\" #@param {type:\"string\"}\n",
        "\n",
        "#@markdown whisper のモデル:\n",
        "model = \"large\" #@param [\"tiny\", \"base\", \"small\", \"medium\", \"large\"]\n",
        "\n",
        "import os\n",
        "outputCsvPath = os.path.join('/content/', outputCsvName)"
      ]
    },
    {
      "cell_type": "markdown",
      "source": [
        "#### パッケージの導入"
      ],
      "metadata": {
        "id": "27kHlSA3aQpz"
      }
    },
    {
      "cell_type": "code",
      "source": [
        "! pip install git+https://github.com/openai/whisper.git"
      ],
      "metadata": {
        "colab": {
          "base_uri": "https://localhost:8080/"
        },
        "id": "aiZa2fhlaUXP",
        "outputId": "a6b230d9-9ac9-4802-9080-f327d1734cbf"
      },
      "execution_count": 7,
      "outputs": [
        {
          "output_type": "stream",
          "name": "stdout",
          "text": [
            "Looking in indexes: https://pypi.org/simple, https://us-python.pkg.dev/colab-wheels/public/simple/\n",
            "Collecting git+https://github.com/openai/whisper.git\n",
            "  Cloning https://github.com/openai/whisper.git to /tmp/pip-req-build-arrtgit1\n",
            "  Running command git clone --filter=blob:none --quiet https://github.com/openai/whisper.git /tmp/pip-req-build-arrtgit1\n",
            "  Resolved https://github.com/openai/whisper.git to commit b5851c6c40e753606765ac45b85b298e3ae9e00d\n",
            "  Installing build dependencies ... \u001b[?25l\u001b[?25hdone\n",
            "  Getting requirements to build wheel ... \u001b[?25l\u001b[?25hdone\n",
            "  Preparing metadata (pyproject.toml) ... \u001b[?25l\u001b[?25hdone\n",
            "Requirement already satisfied: numpy in /usr/local/lib/python3.9/dist-packages (from openai-whisper==20230314) (1.22.4)\n",
            "Requirement already satisfied: torch in /usr/local/lib/python3.9/dist-packages (from openai-whisper==20230314) (2.0.0+cu118)\n",
            "Requirement already satisfied: ffmpeg-python==0.2.0 in /usr/local/lib/python3.9/dist-packages (from openai-whisper==20230314) (0.2.0)\n",
            "Requirement already satisfied: numba in /usr/local/lib/python3.9/dist-packages (from openai-whisper==20230314) (0.56.4)\n",
            "Requirement already satisfied: tiktoken==0.3.1 in /usr/local/lib/python3.9/dist-packages (from openai-whisper==20230314) (0.3.1)\n",
            "Requirement already satisfied: triton==2.0.0 in /usr/local/lib/python3.9/dist-packages (from openai-whisper==20230314) (2.0.0)\n",
            "Requirement already satisfied: tqdm in /usr/local/lib/python3.9/dist-packages (from openai-whisper==20230314) (4.65.0)\n",
            "Requirement already satisfied: more-itertools in /usr/local/lib/python3.9/dist-packages (from openai-whisper==20230314) (9.1.0)\n",
            "Requirement already satisfied: future in /usr/local/lib/python3.9/dist-packages (from ffmpeg-python==0.2.0->openai-whisper==20230314) (0.18.3)\n",
            "Requirement already satisfied: requests>=2.26.0 in /usr/local/lib/python3.9/dist-packages (from tiktoken==0.3.1->openai-whisper==20230314) (2.27.1)\n",
            "Requirement already satisfied: regex>=2022.1.18 in /usr/local/lib/python3.9/dist-packages (from tiktoken==0.3.1->openai-whisper==20230314) (2022.10.31)\n",
            "Requirement already satisfied: lit in /usr/local/lib/python3.9/dist-packages (from triton==2.0.0->openai-whisper==20230314) (16.0.0)\n",
            "Requirement already satisfied: cmake in /usr/local/lib/python3.9/dist-packages (from triton==2.0.0->openai-whisper==20230314) (3.25.2)\n",
            "Requirement already satisfied: filelock in /usr/local/lib/python3.9/dist-packages (from triton==2.0.0->openai-whisper==20230314) (3.10.7)\n",
            "Requirement already satisfied: setuptools in /usr/local/lib/python3.9/dist-packages (from numba->openai-whisper==20230314) (67.6.1)\n",
            "Requirement already satisfied: llvmlite<0.40,>=0.39.0dev0 in /usr/local/lib/python3.9/dist-packages (from numba->openai-whisper==20230314) (0.39.1)\n",
            "Requirement already satisfied: jinja2 in /usr/local/lib/python3.9/dist-packages (from torch->openai-whisper==20230314) (3.1.2)\n",
            "Requirement already satisfied: typing-extensions in /usr/local/lib/python3.9/dist-packages (from torch->openai-whisper==20230314) (4.5.0)\n",
            "Requirement already satisfied: sympy in /usr/local/lib/python3.9/dist-packages (from torch->openai-whisper==20230314) (1.11.1)\n",
            "Requirement already satisfied: networkx in /usr/local/lib/python3.9/dist-packages (from torch->openai-whisper==20230314) (3.0)\n",
            "Requirement already satisfied: idna<4,>=2.5 in /usr/local/lib/python3.9/dist-packages (from requests>=2.26.0->tiktoken==0.3.1->openai-whisper==20230314) (3.4)\n",
            "Requirement already satisfied: certifi>=2017.4.17 in /usr/local/lib/python3.9/dist-packages (from requests>=2.26.0->tiktoken==0.3.1->openai-whisper==20230314) (2022.12.7)\n",
            "Requirement already satisfied: urllib3<1.27,>=1.21.1 in /usr/local/lib/python3.9/dist-packages (from requests>=2.26.0->tiktoken==0.3.1->openai-whisper==20230314) (1.26.15)\n",
            "Requirement already satisfied: charset-normalizer~=2.0.0 in /usr/local/lib/python3.9/dist-packages (from requests>=2.26.0->tiktoken==0.3.1->openai-whisper==20230314) (2.0.12)\n",
            "Requirement already satisfied: MarkupSafe>=2.0 in /usr/local/lib/python3.9/dist-packages (from jinja2->torch->openai-whisper==20230314) (2.1.2)\n",
            "Requirement already satisfied: mpmath>=0.19 in /usr/local/lib/python3.9/dist-packages (from sympy->torch->openai-whisper==20230314) (1.3.0)\n"
          ]
        }
      ]
    },
    {
      "cell_type": "markdown",
      "source": [
        "## 音声データを文章化\n",
        "Whisper で音声データの文章化を行うと以下の dict が返ってくる  \n",
        "\n",
        "**language**: 検出された言語  \n",
        "**text**: 文章全体  \n",
        "**segments**: 分割された文章の詳細情報（その文章の開始時間や終了時間の情報も含む）\n"
      ],
      "metadata": {
        "id": "CFzR8hkVZtJL"
      }
    },
    {
      "cell_type": "code",
      "source": [
        "import whisper\n",
        "model = whisper.load_model(model)\n",
        "result = model.transcribe(audioPath)\n",
        "print('言語: ' + result[\"language\"])\n",
        "print(result[\"text\"])"
      ],
      "metadata": {
        "id": "S6W7bgpv0ceP",
        "colab": {
          "base_uri": "https://localhost:8080/"
        },
        "outputId": "c8c4657b-23ab-4e79-e28c-4f3a20389a77"
      },
      "execution_count": 8,
      "outputs": [
        {
          "output_type": "stream",
          "name": "stdout",
          "text": [
            "言語: ja\n",
            "宮沢賢治作 雨にも負けず雨にも負けず 風にも負けず雪にも 夏の暑さにも負けぬ丈夫な体を持ち 欲はなく決して怒らず いつも静かに笑っている一日に玄米四合と味噌と少しの 野菜を食べあらゆることを自分を感情に入れ ずによく見聞きしわかりそして忘れず野原の松の林の陰の小さなかや ぶきの小屋にいて東に病気の子供あれば 行って看病してやり西に疲れた母あれば 行ってその稲の束を追い南に死にそうな人あれば 行って怖がらなくてもいいといい北に喧嘩や訴訟があれば つまらないからやめろといい緑の時は涙を流し 寒さの夏はおろおろ歩きみんなにデクノボーと呼ばれ 褒められもせず苦にもされずそういうものに私はなりたい南無変行菩薩 南常行菩薩南多方如来 南明方蓮華経南釈迦無二仏 南常行菩薩南安隆行菩薩\n"
          ]
        }
      ]
    },
    {
      "cell_type": "code",
      "source": [
        "result = model.transcribe(audioPath)\n",
        "print('言語: ' + result[\"language\"])\n",
        "print(result[\"text\"])"
      ],
      "metadata": {
        "colab": {
          "base_uri": "https://localhost:8080/"
        },
        "id": "QwaFfFZEPM3S",
        "outputId": "68c97da7-bef0-49eb-f6ac-7e94b40dfb73"
      },
      "execution_count": 9,
      "outputs": [
        {
          "output_type": "stream",
          "name": "stdout",
          "text": [
            "言語: ja\n",
            "宮沢賢治作 雨にも負けず雨にも負けず 風にも負けず雪にも 夏の暑さにも負けぬ丈夫な体を持ち 欲はなく決して怒らず いつも静かに笑っている一日に玄米四合と味噌と少しの 野菜を食べあらゆることを自分を感情に入れ ずによく見聞きしわかりそして忘れず野原の松の林の陰の小さなかや ぶきの小屋にいて東に病気の子供あれば 行って看病してやり西に疲れた母あれば 行ってその稲の束を追い南に死にそうな人あれば 行って怖がらなくてもいいといい北に喧嘩や訴訟があれば つまらないからやめろといい緑の時は涙を流し 寒さの夏はおろおろ歩きみんなにデクノボーと呼ばれ 褒められもせず苦にもされずそういうものに私はなりたい南無変行菩薩 南常行菩薩南多方如来 南明方蓮華経南釈迦無二仏 南常行菩薩南安隆行菩薩\n"
          ]
        }
      ]
    },
    {
      "cell_type": "markdown",
      "source": [
        "## 発話の開始時間と終了時間を含めたCSVデータにする\n",
        "segments のデータを csvデータにする\n"
      ],
      "metadata": {
        "id": "uEDQhtGvbSFD"
      }
    },
    {
      "cell_type": "code",
      "source": [
        "import pandas as pd\n",
        "segmentsDf = pd.DataFrame.from_dict(result[\"segments\"])\n",
        "\n",
        "# csv ファイルに出力\n",
        "segmentsDf.to_csv(outputCsvPath)\n",
        "\n",
        "# 内容の表示\n",
        "segmentsDf.head(10)"
      ],
      "metadata": {
        "id": "doi0lJqzbUJH",
        "colab": {
          "base_uri": "https://localhost:8080/",
          "height": 581
        },
        "outputId": "4a32d59f-a6bd-4c12-c60e-c25cb1558a59"
      },
      "execution_count": 11,
      "outputs": [
        {
          "output_type": "execute_result",
          "data": {
            "text/plain": [
              "   id  seek  start    end                     text  \\\n",
              "0   0     0   0.00  11.00             宮沢賢治作 雨にも負けず   \n",
              "1   1     0  11.00  14.08            雨にも負けず 風にも負けず   \n",
              "2   2     0  14.08  19.52            雪にも 夏の暑さにも負けぬ   \n",
              "3   3     0  19.52  24.38             丈夫な体を持ち 欲はなく   \n",
              "4   4     0  24.38  28.20       決して怒らず いつも静かに笑っている   \n",
              "5   5  2820  28.20  37.82     一日に玄米四合と味噌と少しの 野菜を食べ   \n",
              "6   6  2820  37.82  42.76       あらゆることを自分を感情に入れ ずに   \n",
              "7   7  2820  42.76  48.20          よく見聞きしわかりそして忘れず   \n",
              "8   8  2820  48.20  55.36  野原の松の林の陰の小さなかや ぶきの小屋にいて   \n",
              "9   9  5536  55.36  62.00     東に病気の子供あれば 行って看病してやり   \n",
              "\n",
              "                                              tokens  temperature  \\\n",
              "0  [50364, 39194, 3308, 95, 13352, 95, 30118, 119...          0.0   \n",
              "1  [50914, 35339, 4108, 4801, 11561, 254, 7625, 1...          0.0   \n",
              "2  [51068, 47939, 4108, 4801, 220, 42708, 2972, 2...          0.0   \n",
              "3  [51340, 39642, 3203, 29485, 5998, 17694, 6574,...          0.0   \n",
              "4  [51583, 33540, 8822, 3757, 240, 5154, 18216, 3...          0.0   \n",
              "5  [50364, 2257, 6890, 4108, 8051, 226, 27742, 19...          0.0   \n",
              "6  [50845, 3590, 5154, 34072, 4895, 13235, 5998, ...          0.0   \n",
              "7  [51092, 5591, 6134, 10470, 25468, 7016, 2849, ...          0.0   \n",
              "8  [51364, 37178, 19683, 2972, 36897, 2972, 32063...          0.0   \n",
              "9  [50364, 18413, 4108, 30986, 25870, 2972, 7626,...          0.0   \n",
              "\n",
              "   avg_logprob  compression_ratio  no_speech_prob  \n",
              "0    -0.212710           1.405797        0.211058  \n",
              "1    -0.212710           1.405797        0.211058  \n",
              "2    -0.212710           1.405797        0.211058  \n",
              "3    -0.212710           1.405797        0.211058  \n",
              "4    -0.212710           1.405797        0.211058  \n",
              "5    -0.267053           1.261364        0.012428  \n",
              "6    -0.267053           1.261364        0.012428  \n",
              "7    -0.267053           1.261364        0.012428  \n",
              "8    -0.267053           1.261364        0.012428  \n",
              "9    -0.166663           1.539773        0.117467  "
            ],
            "text/html": [
              "\n",
              "  <div id=\"df-49961e6d-525c-4906-b6df-a8a091590810\">\n",
              "    <div class=\"colab-df-container\">\n",
              "      <div>\n",
              "<style scoped>\n",
              "    .dataframe tbody tr th:only-of-type {\n",
              "        vertical-align: middle;\n",
              "    }\n",
              "\n",
              "    .dataframe tbody tr th {\n",
              "        vertical-align: top;\n",
              "    }\n",
              "\n",
              "    .dataframe thead th {\n",
              "        text-align: right;\n",
              "    }\n",
              "</style>\n",
              "<table border=\"1\" class=\"dataframe\">\n",
              "  <thead>\n",
              "    <tr style=\"text-align: right;\">\n",
              "      <th></th>\n",
              "      <th>id</th>\n",
              "      <th>seek</th>\n",
              "      <th>start</th>\n",
              "      <th>end</th>\n",
              "      <th>text</th>\n",
              "      <th>tokens</th>\n",
              "      <th>temperature</th>\n",
              "      <th>avg_logprob</th>\n",
              "      <th>compression_ratio</th>\n",
              "      <th>no_speech_prob</th>\n",
              "    </tr>\n",
              "  </thead>\n",
              "  <tbody>\n",
              "    <tr>\n",
              "      <th>0</th>\n",
              "      <td>0</td>\n",
              "      <td>0</td>\n",
              "      <td>0.00</td>\n",
              "      <td>11.00</td>\n",
              "      <td>宮沢賢治作 雨にも負けず</td>\n",
              "      <td>[50364, 39194, 3308, 95, 13352, 95, 30118, 119...</td>\n",
              "      <td>0.0</td>\n",
              "      <td>-0.212710</td>\n",
              "      <td>1.405797</td>\n",
              "      <td>0.211058</td>\n",
              "    </tr>\n",
              "    <tr>\n",
              "      <th>1</th>\n",
              "      <td>1</td>\n",
              "      <td>0</td>\n",
              "      <td>11.00</td>\n",
              "      <td>14.08</td>\n",
              "      <td>雨にも負けず 風にも負けず</td>\n",
              "      <td>[50914, 35339, 4108, 4801, 11561, 254, 7625, 1...</td>\n",
              "      <td>0.0</td>\n",
              "      <td>-0.212710</td>\n",
              "      <td>1.405797</td>\n",
              "      <td>0.211058</td>\n",
              "    </tr>\n",
              "    <tr>\n",
              "      <th>2</th>\n",
              "      <td>2</td>\n",
              "      <td>0</td>\n",
              "      <td>14.08</td>\n",
              "      <td>19.52</td>\n",
              "      <td>雪にも 夏の暑さにも負けぬ</td>\n",
              "      <td>[51068, 47939, 4108, 4801, 220, 42708, 2972, 2...</td>\n",
              "      <td>0.0</td>\n",
              "      <td>-0.212710</td>\n",
              "      <td>1.405797</td>\n",
              "      <td>0.211058</td>\n",
              "    </tr>\n",
              "    <tr>\n",
              "      <th>3</th>\n",
              "      <td>3</td>\n",
              "      <td>0</td>\n",
              "      <td>19.52</td>\n",
              "      <td>24.38</td>\n",
              "      <td>丈夫な体を持ち 欲はなく</td>\n",
              "      <td>[51340, 39642, 3203, 29485, 5998, 17694, 6574,...</td>\n",
              "      <td>0.0</td>\n",
              "      <td>-0.212710</td>\n",
              "      <td>1.405797</td>\n",
              "      <td>0.211058</td>\n",
              "    </tr>\n",
              "    <tr>\n",
              "      <th>4</th>\n",
              "      <td>4</td>\n",
              "      <td>0</td>\n",
              "      <td>24.38</td>\n",
              "      <td>28.20</td>\n",
              "      <td>決して怒らず いつも静かに笑っている</td>\n",
              "      <td>[51583, 33540, 8822, 3757, 240, 5154, 18216, 3...</td>\n",
              "      <td>0.0</td>\n",
              "      <td>-0.212710</td>\n",
              "      <td>1.405797</td>\n",
              "      <td>0.211058</td>\n",
              "    </tr>\n",
              "    <tr>\n",
              "      <th>5</th>\n",
              "      <td>5</td>\n",
              "      <td>2820</td>\n",
              "      <td>28.20</td>\n",
              "      <td>37.82</td>\n",
              "      <td>一日に玄米四合と味噌と少しの 野菜を食べ</td>\n",
              "      <td>[50364, 2257, 6890, 4108, 8051, 226, 27742, 19...</td>\n",
              "      <td>0.0</td>\n",
              "      <td>-0.267053</td>\n",
              "      <td>1.261364</td>\n",
              "      <td>0.012428</td>\n",
              "    </tr>\n",
              "    <tr>\n",
              "      <th>6</th>\n",
              "      <td>6</td>\n",
              "      <td>2820</td>\n",
              "      <td>37.82</td>\n",
              "      <td>42.76</td>\n",
              "      <td>あらゆることを自分を感情に入れ ずに</td>\n",
              "      <td>[50845, 3590, 5154, 34072, 4895, 13235, 5998, ...</td>\n",
              "      <td>0.0</td>\n",
              "      <td>-0.267053</td>\n",
              "      <td>1.261364</td>\n",
              "      <td>0.012428</td>\n",
              "    </tr>\n",
              "    <tr>\n",
              "      <th>7</th>\n",
              "      <td>7</td>\n",
              "      <td>2820</td>\n",
              "      <td>42.76</td>\n",
              "      <td>48.20</td>\n",
              "      <td>よく見聞きしわかりそして忘れず</td>\n",
              "      <td>[51092, 5591, 6134, 10470, 25468, 7016, 2849, ...</td>\n",
              "      <td>0.0</td>\n",
              "      <td>-0.267053</td>\n",
              "      <td>1.261364</td>\n",
              "      <td>0.012428</td>\n",
              "    </tr>\n",
              "    <tr>\n",
              "      <th>8</th>\n",
              "      <td>8</td>\n",
              "      <td>2820</td>\n",
              "      <td>48.20</td>\n",
              "      <td>55.36</td>\n",
              "      <td>野原の松の林の陰の小さなかや ぶきの小屋にいて</td>\n",
              "      <td>[51364, 37178, 19683, 2972, 36897, 2972, 32063...</td>\n",
              "      <td>0.0</td>\n",
              "      <td>-0.267053</td>\n",
              "      <td>1.261364</td>\n",
              "      <td>0.012428</td>\n",
              "    </tr>\n",
              "    <tr>\n",
              "      <th>9</th>\n",
              "      <td>9</td>\n",
              "      <td>5536</td>\n",
              "      <td>55.36</td>\n",
              "      <td>62.00</td>\n",
              "      <td>東に病気の子供あれば 行って看病してやり</td>\n",
              "      <td>[50364, 18413, 4108, 30986, 25870, 2972, 7626,...</td>\n",
              "      <td>0.0</td>\n",
              "      <td>-0.166663</td>\n",
              "      <td>1.539773</td>\n",
              "      <td>0.117467</td>\n",
              "    </tr>\n",
              "  </tbody>\n",
              "</table>\n",
              "</div>\n",
              "      <button class=\"colab-df-convert\" onclick=\"convertToInteractive('df-49961e6d-525c-4906-b6df-a8a091590810')\"\n",
              "              title=\"Convert this dataframe to an interactive table.\"\n",
              "              style=\"display:none;\">\n",
              "        \n",
              "  <svg xmlns=\"http://www.w3.org/2000/svg\" height=\"24px\"viewBox=\"0 0 24 24\"\n",
              "       width=\"24px\">\n",
              "    <path d=\"M0 0h24v24H0V0z\" fill=\"none\"/>\n",
              "    <path d=\"M18.56 5.44l.94 2.06.94-2.06 2.06-.94-2.06-.94-.94-2.06-.94 2.06-2.06.94zm-11 1L8.5 8.5l.94-2.06 2.06-.94-2.06-.94L8.5 2.5l-.94 2.06-2.06.94zm10 10l.94 2.06.94-2.06 2.06-.94-2.06-.94-.94-2.06-.94 2.06-2.06.94z\"/><path d=\"M17.41 7.96l-1.37-1.37c-.4-.4-.92-.59-1.43-.59-.52 0-1.04.2-1.43.59L10.3 9.45l-7.72 7.72c-.78.78-.78 2.05 0 2.83L4 21.41c.39.39.9.59 1.41.59.51 0 1.02-.2 1.41-.59l7.78-7.78 2.81-2.81c.8-.78.8-2.07 0-2.86zM5.41 20L4 18.59l7.72-7.72 1.47 1.35L5.41 20z\"/>\n",
              "  </svg>\n",
              "      </button>\n",
              "      \n",
              "  <style>\n",
              "    .colab-df-container {\n",
              "      display:flex;\n",
              "      flex-wrap:wrap;\n",
              "      gap: 12px;\n",
              "    }\n",
              "\n",
              "    .colab-df-convert {\n",
              "      background-color: #E8F0FE;\n",
              "      border: none;\n",
              "      border-radius: 50%;\n",
              "      cursor: pointer;\n",
              "      display: none;\n",
              "      fill: #1967D2;\n",
              "      height: 32px;\n",
              "      padding: 0 0 0 0;\n",
              "      width: 32px;\n",
              "    }\n",
              "\n",
              "    .colab-df-convert:hover {\n",
              "      background-color: #E2EBFA;\n",
              "      box-shadow: 0px 1px 2px rgba(60, 64, 67, 0.3), 0px 1px 3px 1px rgba(60, 64, 67, 0.15);\n",
              "      fill: #174EA6;\n",
              "    }\n",
              "\n",
              "    [theme=dark] .colab-df-convert {\n",
              "      background-color: #3B4455;\n",
              "      fill: #D2E3FC;\n",
              "    }\n",
              "\n",
              "    [theme=dark] .colab-df-convert:hover {\n",
              "      background-color: #434B5C;\n",
              "      box-shadow: 0px 1px 3px 1px rgba(0, 0, 0, 0.15);\n",
              "      filter: drop-shadow(0px 1px 2px rgba(0, 0, 0, 0.3));\n",
              "      fill: #FFFFFF;\n",
              "    }\n",
              "  </style>\n",
              "\n",
              "      <script>\n",
              "        const buttonEl =\n",
              "          document.querySelector('#df-49961e6d-525c-4906-b6df-a8a091590810 button.colab-df-convert');\n",
              "        buttonEl.style.display =\n",
              "          google.colab.kernel.accessAllowed ? 'block' : 'none';\n",
              "\n",
              "        async function convertToInteractive(key) {\n",
              "          const element = document.querySelector('#df-49961e6d-525c-4906-b6df-a8a091590810');\n",
              "          const dataTable =\n",
              "            await google.colab.kernel.invokeFunction('convertToInteractive',\n",
              "                                                     [key], {});\n",
              "          if (!dataTable) return;\n",
              "\n",
              "          const docLinkHtml = 'Like what you see? Visit the ' +\n",
              "            '<a target=\"_blank\" href=https://colab.research.google.com/notebooks/data_table.ipynb>data table notebook</a>'\n",
              "            + ' to learn more about interactive tables.';\n",
              "          element.innerHTML = '';\n",
              "          dataTable['output_type'] = 'display_data';\n",
              "          await google.colab.output.renderOutput(dataTable, element);\n",
              "          const docLink = document.createElement('div');\n",
              "          docLink.innerHTML = docLinkHtml;\n",
              "          element.appendChild(docLink);\n",
              "        }\n",
              "      </script>\n",
              "    </div>\n",
              "  </div>\n",
              "  "
            ]
          },
          "metadata": {},
          "execution_count": 11
        }
      ]
    }
  ]
}