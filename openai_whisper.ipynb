{
  "nbformat": 4,
  "nbformat_minor": 0,
  "metadata": {
    "colab": {
      "provenance": [],
      "authorship_tag": "ABX9TyMGIpMBqEn4loR8c7GZqg7H",
      "include_colab_link": true
    },
    "kernelspec": {
      "name": "python3",
      "display_name": "Python 3"
    },
    "language_info": {
      "name": "python"
    },
    "accelerator": "GPU",
    "gpuClass": "standard"
  },
  "cells": [
    {
      "cell_type": "markdown",
      "metadata": {
        "id": "view-in-github",
        "colab_type": "text"
      },
      "source": [
        "<a href=\"https://colab.research.google.com/github/takeshitayy/openai-whisper/blob/main/openai_whisper.ipynb\" target=\"_parent\"><img src=\"https://colab.research.google.com/assets/colab-badge.svg\" alt=\"Open In Colab\"/></a>"
      ]
    },
    {
      "cell_type": "markdown",
      "source": [
        "# 【OpenAI】Whisper で音声データを文章化し、発話の開始時間と終了時間を含めたCSVデータにする\n",
        "- OpenAIが公開している [Wisper](https://github.com/openai/whisper/) を利用して、音声データを文章化する\n",
        "- 文章化するとある程度で区切られて出力され、その区切られた文章の開始時間と終了時間を含めCSVデータにする"
      ],
      "metadata": {
        "id": "lWOiuYXZtkqT"
      }
    },
    {
      "cell_type": "markdown",
      "source": [
        "## 実行方法\n",
        "\n",
        "1. ランタイムの設定\n",
        "    1. メニューバーの [ランタイム] - [ランタイムのタイプの変更] をクリック\n",
        "        ![ランタイムのタイプの変更](https://docs.google.com/drawings/d/e/2PACX-1vTo2XkKxxwux9ATDbSPQI0PbJHMYzTJPKwUcUtIj8UwlT_h4sFm9vJtdjusib3p0nNX-j7lYX0EyWu1/pub?w=601&h=545)\n",
        "    1. ハードウェア アクセラレータ で `GUP` を設定する\n",
        "        ![ランタイムのタイプの変更](https://docs.google.com/drawings/d/e/2PACX-1vQL7egTWuLu9NOLb5-Z1uZCwIa9dMKraLhn6T6B3KO0_GdYhawWdOyKQaE0SlBDZ0gDr1xAUp0aCPAQ/pub?w=644&h=340)\n",
        "1. 音声データの準備\n",
        "    1. サイドバーの 📁アイコン をクリックしてファイルの一覧を表示し、テキストを抽出したい 音声データ を drag & drop で追加\n",
        "        ![音声データの追加](https://docs.google.com/drawings/d/e/2PACX-1vQU_evi3lR57aAgoRfJhAr5FYpGBf10uA85v8Dx25rE-HMAauXwX1ON0o9KcBVyXvUjqR4H8_rMadCM/pub?w=525&h=307)\n",
        "    1. 追加した 音声データ を右クリックして `パスをコピー` でファイルの絶対パスをコピーする\n",
        "    1. 変数 `audioPath` に音声データの絶対パスをセット\n",
        "1. そのほか設定\n",
        "    1. 変数 `outputCsvName` に出力するcsvのファイル名をセット\n",
        "    1. 変数 `model`で 使用する whisper のモデルを選択する\n",
        "1. `Ctrl + F9` ですべてのセルを実行すると"
      ],
      "metadata": {
        "id": "LBvJx_yqSS2O"
      }
    },
    {
      "cell_type": "markdown",
      "source": [
        "### 変数のセットとパッケージの導入"
      ],
      "metadata": {
        "id": "NihsuhxfaB5E"
      }
    },
    {
      "cell_type": "code",
      "execution_count": 1,
      "metadata": {
        "id": "YdzEiW6Hx1MI"
      },
      "outputs": [],
      "source": [
        "#@title 変数のセット\n",
        "#@markdown 音声データの絶対パス:\n",
        "audioPath = \"/content/audio.mp3\" #@param {type:\"string\"}\n",
        "\n",
        "#@markdown 出力するCSVのファイル名（/content/ 以下に出力される）:\n",
        "outputCsvName = \"output.csv\" #@param {type:\"string\"}\n",
        "\n",
        "#@markdown whisper のモデル:\n",
        "model = \"large\" #@param [\"tiny\", \"base\", \"small\", \"medium\", \"large\"]\n",
        "\n",
        "import os\n",
        "outputCsvPaht = os.path.join('/content/', outputCsvName)"
      ]
    },
    {
      "cell_type": "markdown",
      "source": [
        "#### パッケージの導入"
      ],
      "metadata": {
        "id": "27kHlSA3aQpz"
      }
    },
    {
      "cell_type": "code",
      "source": [
        "! pip install git+https://github.com/openai/whisper.git"
      ],
      "metadata": {
        "colab": {
          "base_uri": "https://localhost:8080/"
        },
        "id": "aiZa2fhlaUXP",
        "outputId": "aef6b17c-6b53-4eb5-db97-43fdf9cd239d"
      },
      "execution_count": 2,
      "outputs": [
        {
          "output_type": "stream",
          "name": "stdout",
          "text": [
            "Looking in indexes: https://pypi.org/simple, https://us-python.pkg.dev/colab-wheels/public/simple/\n",
            "Collecting git+https://github.com/openai/whisper.git\n",
            "  Cloning https://github.com/openai/whisper.git to /tmp/pip-req-build-6785qgc1\n",
            "  Running command git clone --filter=blob:none --quiet https://github.com/openai/whisper.git /tmp/pip-req-build-6785qgc1\n",
            "  Resolved https://github.com/openai/whisper.git to commit b5851c6c40e753606765ac45b85b298e3ae9e00d\n",
            "  Installing build dependencies ... \u001b[?25l\u001b[?25hdone\n",
            "  Getting requirements to build wheel ... \u001b[?25l\u001b[?25hdone\n",
            "  Preparing metadata (pyproject.toml) ... \u001b[?25l\u001b[?25hdone\n",
            "Requirement already satisfied: numba in /usr/local/lib/python3.9/dist-packages (from openai-whisper==20230314) (0.56.4)\n",
            "Requirement already satisfied: torch in /usr/local/lib/python3.9/dist-packages (from openai-whisper==20230314) (2.0.0+cu118)\n",
            "Requirement already satisfied: tqdm in /usr/local/lib/python3.9/dist-packages (from openai-whisper==20230314) (4.65.0)\n",
            "Collecting tiktoken==0.3.1\n",
            "  Downloading tiktoken-0.3.1-cp39-cp39-manylinux_2_17_x86_64.manylinux2014_x86_64.whl (1.7 MB)\n",
            "\u001b[2K     \u001b[90m━━━━━━━━━━━━━━━━━━━━━━━━━━━━━━━━━━━━━━━━\u001b[0m \u001b[32m1.7/1.7 MB\u001b[0m \u001b[31m66.4 MB/s\u001b[0m eta \u001b[36m0:00:00\u001b[0m\n",
            "\u001b[?25hRequirement already satisfied: more-itertools in /usr/local/lib/python3.9/dist-packages (from openai-whisper==20230314) (9.1.0)\n",
            "Requirement already satisfied: triton==2.0.0 in /usr/local/lib/python3.9/dist-packages (from openai-whisper==20230314) (2.0.0)\n",
            "Requirement already satisfied: numpy in /usr/local/lib/python3.9/dist-packages (from openai-whisper==20230314) (1.22.4)\n",
            "Collecting ffmpeg-python==0.2.0\n",
            "  Downloading ffmpeg_python-0.2.0-py3-none-any.whl (25 kB)\n",
            "Requirement already satisfied: future in /usr/local/lib/python3.9/dist-packages (from ffmpeg-python==0.2.0->openai-whisper==20230314) (0.18.3)\n",
            "Requirement already satisfied: regex>=2022.1.18 in /usr/local/lib/python3.9/dist-packages (from tiktoken==0.3.1->openai-whisper==20230314) (2022.10.31)\n",
            "Requirement already satisfied: requests>=2.26.0 in /usr/local/lib/python3.9/dist-packages (from tiktoken==0.3.1->openai-whisper==20230314) (2.27.1)\n",
            "Requirement already satisfied: lit in /usr/local/lib/python3.9/dist-packages (from triton==2.0.0->openai-whisper==20230314) (16.0.0)\n",
            "Requirement already satisfied: cmake in /usr/local/lib/python3.9/dist-packages (from triton==2.0.0->openai-whisper==20230314) (3.25.2)\n",
            "Requirement already satisfied: filelock in /usr/local/lib/python3.9/dist-packages (from triton==2.0.0->openai-whisper==20230314) (3.10.7)\n",
            "Requirement already satisfied: llvmlite<0.40,>=0.39.0dev0 in /usr/local/lib/python3.9/dist-packages (from numba->openai-whisper==20230314) (0.39.1)\n",
            "Requirement already satisfied: setuptools in /usr/local/lib/python3.9/dist-packages (from numba->openai-whisper==20230314) (67.6.1)\n",
            "Requirement already satisfied: sympy in /usr/local/lib/python3.9/dist-packages (from torch->openai-whisper==20230314) (1.11.1)\n",
            "Requirement already satisfied: networkx in /usr/local/lib/python3.9/dist-packages (from torch->openai-whisper==20230314) (3.0)\n",
            "Requirement already satisfied: typing-extensions in /usr/local/lib/python3.9/dist-packages (from torch->openai-whisper==20230314) (4.5.0)\n",
            "Requirement already satisfied: jinja2 in /usr/local/lib/python3.9/dist-packages (from torch->openai-whisper==20230314) (3.1.2)\n",
            "Requirement already satisfied: urllib3<1.27,>=1.21.1 in /usr/local/lib/python3.9/dist-packages (from requests>=2.26.0->tiktoken==0.3.1->openai-whisper==20230314) (1.26.15)\n",
            "Requirement already satisfied: certifi>=2017.4.17 in /usr/local/lib/python3.9/dist-packages (from requests>=2.26.0->tiktoken==0.3.1->openai-whisper==20230314) (2022.12.7)\n",
            "Requirement already satisfied: charset-normalizer~=2.0.0 in /usr/local/lib/python3.9/dist-packages (from requests>=2.26.0->tiktoken==0.3.1->openai-whisper==20230314) (2.0.12)\n",
            "Requirement already satisfied: idna<4,>=2.5 in /usr/local/lib/python3.9/dist-packages (from requests>=2.26.0->tiktoken==0.3.1->openai-whisper==20230314) (3.4)\n",
            "Requirement already satisfied: MarkupSafe>=2.0 in /usr/local/lib/python3.9/dist-packages (from jinja2->torch->openai-whisper==20230314) (2.1.2)\n",
            "Requirement already satisfied: mpmath>=0.19 in /usr/local/lib/python3.9/dist-packages (from sympy->torch->openai-whisper==20230314) (1.3.0)\n",
            "Building wheels for collected packages: openai-whisper\n",
            "  Building wheel for openai-whisper (pyproject.toml) ... \u001b[?25l\u001b[?25hdone\n",
            "  Created wheel for openai-whisper: filename=openai_whisper-20230314-py3-none-any.whl size=796955 sha256=b838d09b7a4d539c3e37718719523f7cf16af6a95ec4a588a88a8962f8a4536c\n",
            "  Stored in directory: /tmp/pip-ephem-wheel-cache-9r8a86i4/wheels/fe/03/29/e7919208d11b4ab32972cb448bb84a9a675d92cd52c9a48341\n",
            "Successfully built openai-whisper\n",
            "Installing collected packages: ffmpeg-python, tiktoken, openai-whisper\n",
            "Successfully installed ffmpeg-python-0.2.0 openai-whisper-20230314 tiktoken-0.3.1\n"
          ]
        }
      ]
    },
    {
      "cell_type": "markdown",
      "source": [
        "## 音声データを文章化\n",
        "Whisper で音声データの文章化を行うと以下の dict が返ってくる  \n",
        "\n",
        "**language**: 検出された言語  \n",
        "**text**: 文章全体  \n",
        "**segments**: 分割された文章の詳細情報（その文章の開始時間や終了時間の情報も含む）\n"
      ],
      "metadata": {
        "id": "CFzR8hkVZtJL"
      }
    },
    {
      "cell_type": "code",
      "source": [
        "import whisper\n",
        "model = whisper.load_model(model)\n",
        "result = model.transcribe(audioPath)\n",
        "print('言語: ' + result[\"language\"])\n",
        "print(result[\"text\"])"
      ],
      "metadata": {
        "id": "S6W7bgpv0ceP",
        "colab": {
          "base_uri": "https://localhost:8080/"
        },
        "outputId": "1c8e20b6-fed6-40e9-f541-791eca965269"
      },
      "execution_count": 3,
      "outputs": [
        {
          "output_type": "stream",
          "name": "stderr",
          "text": [
            "100%|██████████████████████████████████████| 2.87G/2.87G [00:16<00:00, 190MiB/s]\n"
          ]
        },
        {
          "output_type": "stream",
          "name": "stdout",
          "text": [
            "言語: ja\n",
            "宮沢賢治作 雨にも負けず雨にも負けず 風にも負けず雪にも 夏の暑さにも負けぬ丈夫な体を持ち 欲はなく決して怒らず いつも静かに笑っている一日に玄米四合と味噌と少しの 野菜を食べあらゆることを自分を感情に入れ ずによく見聞きしわかりそして忘れず野原の松の林の陰の小さなかや ぶきの小屋にいて東に病気の子供あれば 行って看病してやり西に疲れた母あれば 行ってその稲の束を追い南に死にそうな人あれば 行って怖がらなくてもいいといい北に喧嘩や訴訟があれば つまらないからやめろといい緑の時は涙を流し 寒さの夏はおろおろ歩きみんなにデクノボーと呼ばれ 褒められもせず苦にもされずそういうものに私はなりたい南無変行菩薩 南常行菩薩南多方如来 南明方蓮華経南釈迦無二仏 南常行菩薩南安隆行菩薩\n"
          ]
        }
      ]
    },
    {
      "cell_type": "markdown",
      "source": [
        "## 発話の開始時間と終了時間を含めたCSVデータにする\n",
        "segments のデータを csvデータにする\n"
      ],
      "metadata": {
        "id": "uEDQhtGvbSFD"
      }
    },
    {
      "cell_type": "code",
      "source": [
        "import pandas as pd\n",
        "audioDf = pd.DataFrame.from_dict(result[\"segments\"])\n",
        "\n",
        "# csv ファイルに出力\n",
        "audioDf.to_csv(outputCsvPaht)\n",
        "\n",
        "# 内容の表示\n",
        "audioDf.head()"
      ],
      "metadata": {
        "id": "doi0lJqzbUJH",
        "colab": {
          "base_uri": "https://localhost:8080/",
          "height": 337
        },
        "outputId": "cd25a116-fc8d-4807-ab6f-1fcef6e0b9c5"
      },
      "execution_count": 4,
      "outputs": [
        {
          "output_type": "execute_result",
          "data": {
            "text/plain": [
              "   id  seek  start    end                text  \\\n",
              "0   0     0   0.00  11.00        宮沢賢治作 雨にも負けず   \n",
              "1   1     0  11.00  14.08       雨にも負けず 風にも負けず   \n",
              "2   2     0  14.08  19.52       雪にも 夏の暑さにも負けぬ   \n",
              "3   3     0  19.52  24.38        丈夫な体を持ち 欲はなく   \n",
              "4   4     0  24.38  28.20  決して怒らず いつも静かに笑っている   \n",
              "\n",
              "                                              tokens  temperature  \\\n",
              "0  [50364, 39194, 3308, 95, 13352, 95, 30118, 119...          0.0   \n",
              "1  [50914, 35339, 4108, 4801, 11561, 254, 7625, 1...          0.0   \n",
              "2  [51068, 47939, 4108, 4801, 220, 42708, 2972, 2...          0.0   \n",
              "3  [51340, 39642, 3203, 29485, 5998, 17694, 6574,...          0.0   \n",
              "4  [51583, 33540, 8822, 3757, 240, 5154, 18216, 3...          0.0   \n",
              "\n",
              "   avg_logprob  compression_ratio  no_speech_prob  \n",
              "0     -0.21271           1.405797        0.211058  \n",
              "1     -0.21271           1.405797        0.211058  \n",
              "2     -0.21271           1.405797        0.211058  \n",
              "3     -0.21271           1.405797        0.211058  \n",
              "4     -0.21271           1.405797        0.211058  "
            ],
            "text/html": [
              "\n",
              "  <div id=\"df-80366270-5cfd-4839-be37-51a5d91d4540\">\n",
              "    <div class=\"colab-df-container\">\n",
              "      <div>\n",
              "<style scoped>\n",
              "    .dataframe tbody tr th:only-of-type {\n",
              "        vertical-align: middle;\n",
              "    }\n",
              "\n",
              "    .dataframe tbody tr th {\n",
              "        vertical-align: top;\n",
              "    }\n",
              "\n",
              "    .dataframe thead th {\n",
              "        text-align: right;\n",
              "    }\n",
              "</style>\n",
              "<table border=\"1\" class=\"dataframe\">\n",
              "  <thead>\n",
              "    <tr style=\"text-align: right;\">\n",
              "      <th></th>\n",
              "      <th>id</th>\n",
              "      <th>seek</th>\n",
              "      <th>start</th>\n",
              "      <th>end</th>\n",
              "      <th>text</th>\n",
              "      <th>tokens</th>\n",
              "      <th>temperature</th>\n",
              "      <th>avg_logprob</th>\n",
              "      <th>compression_ratio</th>\n",
              "      <th>no_speech_prob</th>\n",
              "    </tr>\n",
              "  </thead>\n",
              "  <tbody>\n",
              "    <tr>\n",
              "      <th>0</th>\n",
              "      <td>0</td>\n",
              "      <td>0</td>\n",
              "      <td>0.00</td>\n",
              "      <td>11.00</td>\n",
              "      <td>宮沢賢治作 雨にも負けず</td>\n",
              "      <td>[50364, 39194, 3308, 95, 13352, 95, 30118, 119...</td>\n",
              "      <td>0.0</td>\n",
              "      <td>-0.21271</td>\n",
              "      <td>1.405797</td>\n",
              "      <td>0.211058</td>\n",
              "    </tr>\n",
              "    <tr>\n",
              "      <th>1</th>\n",
              "      <td>1</td>\n",
              "      <td>0</td>\n",
              "      <td>11.00</td>\n",
              "      <td>14.08</td>\n",
              "      <td>雨にも負けず 風にも負けず</td>\n",
              "      <td>[50914, 35339, 4108, 4801, 11561, 254, 7625, 1...</td>\n",
              "      <td>0.0</td>\n",
              "      <td>-0.21271</td>\n",
              "      <td>1.405797</td>\n",
              "      <td>0.211058</td>\n",
              "    </tr>\n",
              "    <tr>\n",
              "      <th>2</th>\n",
              "      <td>2</td>\n",
              "      <td>0</td>\n",
              "      <td>14.08</td>\n",
              "      <td>19.52</td>\n",
              "      <td>雪にも 夏の暑さにも負けぬ</td>\n",
              "      <td>[51068, 47939, 4108, 4801, 220, 42708, 2972, 2...</td>\n",
              "      <td>0.0</td>\n",
              "      <td>-0.21271</td>\n",
              "      <td>1.405797</td>\n",
              "      <td>0.211058</td>\n",
              "    </tr>\n",
              "    <tr>\n",
              "      <th>3</th>\n",
              "      <td>3</td>\n",
              "      <td>0</td>\n",
              "      <td>19.52</td>\n",
              "      <td>24.38</td>\n",
              "      <td>丈夫な体を持ち 欲はなく</td>\n",
              "      <td>[51340, 39642, 3203, 29485, 5998, 17694, 6574,...</td>\n",
              "      <td>0.0</td>\n",
              "      <td>-0.21271</td>\n",
              "      <td>1.405797</td>\n",
              "      <td>0.211058</td>\n",
              "    </tr>\n",
              "    <tr>\n",
              "      <th>4</th>\n",
              "      <td>4</td>\n",
              "      <td>0</td>\n",
              "      <td>24.38</td>\n",
              "      <td>28.20</td>\n",
              "      <td>決して怒らず いつも静かに笑っている</td>\n",
              "      <td>[51583, 33540, 8822, 3757, 240, 5154, 18216, 3...</td>\n",
              "      <td>0.0</td>\n",
              "      <td>-0.21271</td>\n",
              "      <td>1.405797</td>\n",
              "      <td>0.211058</td>\n",
              "    </tr>\n",
              "  </tbody>\n",
              "</table>\n",
              "</div>\n",
              "      <button class=\"colab-df-convert\" onclick=\"convertToInteractive('df-80366270-5cfd-4839-be37-51a5d91d4540')\"\n",
              "              title=\"Convert this dataframe to an interactive table.\"\n",
              "              style=\"display:none;\">\n",
              "        \n",
              "  <svg xmlns=\"http://www.w3.org/2000/svg\" height=\"24px\"viewBox=\"0 0 24 24\"\n",
              "       width=\"24px\">\n",
              "    <path d=\"M0 0h24v24H0V0z\" fill=\"none\"/>\n",
              "    <path d=\"M18.56 5.44l.94 2.06.94-2.06 2.06-.94-2.06-.94-.94-2.06-.94 2.06-2.06.94zm-11 1L8.5 8.5l.94-2.06 2.06-.94-2.06-.94L8.5 2.5l-.94 2.06-2.06.94zm10 10l.94 2.06.94-2.06 2.06-.94-2.06-.94-.94-2.06-.94 2.06-2.06.94z\"/><path d=\"M17.41 7.96l-1.37-1.37c-.4-.4-.92-.59-1.43-.59-.52 0-1.04.2-1.43.59L10.3 9.45l-7.72 7.72c-.78.78-.78 2.05 0 2.83L4 21.41c.39.39.9.59 1.41.59.51 0 1.02-.2 1.41-.59l7.78-7.78 2.81-2.81c.8-.78.8-2.07 0-2.86zM5.41 20L4 18.59l7.72-7.72 1.47 1.35L5.41 20z\"/>\n",
              "  </svg>\n",
              "      </button>\n",
              "      \n",
              "  <style>\n",
              "    .colab-df-container {\n",
              "      display:flex;\n",
              "      flex-wrap:wrap;\n",
              "      gap: 12px;\n",
              "    }\n",
              "\n",
              "    .colab-df-convert {\n",
              "      background-color: #E8F0FE;\n",
              "      border: none;\n",
              "      border-radius: 50%;\n",
              "      cursor: pointer;\n",
              "      display: none;\n",
              "      fill: #1967D2;\n",
              "      height: 32px;\n",
              "      padding: 0 0 0 0;\n",
              "      width: 32px;\n",
              "    }\n",
              "\n",
              "    .colab-df-convert:hover {\n",
              "      background-color: #E2EBFA;\n",
              "      box-shadow: 0px 1px 2px rgba(60, 64, 67, 0.3), 0px 1px 3px 1px rgba(60, 64, 67, 0.15);\n",
              "      fill: #174EA6;\n",
              "    }\n",
              "\n",
              "    [theme=dark] .colab-df-convert {\n",
              "      background-color: #3B4455;\n",
              "      fill: #D2E3FC;\n",
              "    }\n",
              "\n",
              "    [theme=dark] .colab-df-convert:hover {\n",
              "      background-color: #434B5C;\n",
              "      box-shadow: 0px 1px 3px 1px rgba(0, 0, 0, 0.15);\n",
              "      filter: drop-shadow(0px 1px 2px rgba(0, 0, 0, 0.3));\n",
              "      fill: #FFFFFF;\n",
              "    }\n",
              "  </style>\n",
              "\n",
              "      <script>\n",
              "        const buttonEl =\n",
              "          document.querySelector('#df-80366270-5cfd-4839-be37-51a5d91d4540 button.colab-df-convert');\n",
              "        buttonEl.style.display =\n",
              "          google.colab.kernel.accessAllowed ? 'block' : 'none';\n",
              "\n",
              "        async function convertToInteractive(key) {\n",
              "          const element = document.querySelector('#df-80366270-5cfd-4839-be37-51a5d91d4540');\n",
              "          const dataTable =\n",
              "            await google.colab.kernel.invokeFunction('convertToInteractive',\n",
              "                                                     [key], {});\n",
              "          if (!dataTable) return;\n",
              "\n",
              "          const docLinkHtml = 'Like what you see? Visit the ' +\n",
              "            '<a target=\"_blank\" href=https://colab.research.google.com/notebooks/data_table.ipynb>data table notebook</a>'\n",
              "            + ' to learn more about interactive tables.';\n",
              "          element.innerHTML = '';\n",
              "          dataTable['output_type'] = 'display_data';\n",
              "          await google.colab.output.renderOutput(dataTable, element);\n",
              "          const docLink = document.createElement('div');\n",
              "          docLink.innerHTML = docLinkHtml;\n",
              "          element.appendChild(docLink);\n",
              "        }\n",
              "      </script>\n",
              "    </div>\n",
              "  </div>\n",
              "  "
            ]
          },
          "metadata": {},
          "execution_count": 4
        }
      ]
    }
  ]
}